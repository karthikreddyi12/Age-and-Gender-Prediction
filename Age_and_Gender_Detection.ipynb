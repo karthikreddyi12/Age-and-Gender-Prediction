{
  "metadata": {
    "kernelspec": {
      "language": "python",
      "display_name": "Python 3",
      "name": "python3"
    },
    "language_info": {
      "name": "python",
      "version": "3.10.13",
      "mimetype": "text/x-python",
      "codemirror_mode": {
        "name": "ipython",
        "version": 3
      },
      "pygments_lexer": "ipython3",
      "nbconvert_exporter": "python",
      "file_extension": ".py"
    },
    "kaggle": {
      "accelerator": "nvidiaTeslaT4",
      "dataSources": [
        {
          "sourceId": 78156,
          "sourceType": "datasetVersion",
          "datasetId": 44109
        }
      ],
      "dockerImageVersionId": 30732,
      "isInternetEnabled": false,
      "language": "python",
      "sourceType": "notebook",
      "isGpuEnabled": true
    },
    "colab": {
      "name": "Age and Gender Detection",
      "provenance": [],
      "include_colab_link": true
    }
  },
  "nbformat_minor": 0,
  "nbformat": 4,
  "cells": [
    {
      "cell_type": "markdown",
      "metadata": {
        "id": "view-in-github",
        "colab_type": "text"
      },
      "source": [
        "<a href=\"https://colab.research.google.com/github/karthikreddyi12/Age-and-gender-prediction/blob/main/Age_and_Gender_Detection.ipynb\" target=\"_parent\"><img src=\"https://colab.research.google.com/assets/colab-badge.svg\" alt=\"Open In Colab\"/></a>"
      ]
    },
    {
      "source": [
        "\n",
        "# IMPORTANT: RUN THIS CELL IN ORDER TO IMPORT YOUR KAGGLE DATA SOURCES\n",
        "# TO THE CORRECT LOCATION (/kaggle/input) IN YOUR NOTEBOOK,\n",
        "# THEN FEEL FREE TO DELETE THIS CELL.\n",
        "# NOTE: THIS NOTEBOOK ENVIRONMENT DIFFERS FROM KAGGLE'S PYTHON\n",
        "# ENVIRONMENT SO THERE MAY BE MISSING LIBRARIES USED BY YOUR\n",
        "# NOTEBOOK.\n",
        "\n",
        "import os\n",
        "import sys\n",
        "from tempfile import NamedTemporaryFile\n",
        "from urllib.request import urlopen\n",
        "from urllib.parse import unquote, urlparse\n",
        "from urllib.error import HTTPError\n",
        "from zipfile import ZipFile\n",
        "import tarfile\n",
        "import shutil\n",
        "\n",
        "CHUNK_SIZE = 40960\n",
        "DATA_SOURCE_MAPPING = 'utkface-new:https%3A%2F%2Fstorage.googleapis.com%2Fkaggle-data-sets%2F44109%2F78156%2Fbundle%2Farchive.zip%3FX-Goog-Algorithm%3DGOOG4-RSA-SHA256%26X-Goog-Credential%3Dgcp-kaggle-com%2540kaggle-161607.iam.gserviceaccount.com%252F20240819%252Fauto%252Fstorage%252Fgoog4_request%26X-Goog-Date%3D20240819T051226Z%26X-Goog-Expires%3D259200%26X-Goog-SignedHeaders%3Dhost%26X-Goog-Signature%3D8fbf366c3ecda89be327b81c4d0c763ef71aee2be7a477f48af398ded836fdfa40f5e93983f82b16974b3ec8d2e936fde774492f4abe1c4a7b29092c3aa3c51f2e6a1bf1b9f0f8e96039a82097d70cc5c694ee3f5beb6c1cb664d8fd1d50d7ac4834e574798c478c6a73b88c05823b70db00e6d80095f4aab11f9f440d514700a3b41de5cd6022fc8840a69b2b2585d1d11b310231fec9df76ec1293547d1becb64f4e104c36261f2d4dcb3228de1c3eb9610b8eedb78911113644b2931540ce720a95b475be440b221f7683e0b302d1e9c07140c90d6a6beabcfe1beabdbcdbe79b15dc7a8a6805b24edc995b0577fc228cb6305237b76fd7fbe2b353e8f788'\n",
        "\n",
        "KAGGLE_INPUT_PATH='/kaggle/input'\n",
        "KAGGLE_WORKING_PATH='/kaggle/working'\n",
        "KAGGLE_SYMLINK='kaggle'\n",
        "\n",
        "!umount /kaggle/input/ 2> /dev/null\n",
        "shutil.rmtree('/kaggle/input', ignore_errors=True)\n",
        "os.makedirs(KAGGLE_INPUT_PATH, 0o777, exist_ok=True)\n",
        "os.makedirs(KAGGLE_WORKING_PATH, 0o777, exist_ok=True)\n",
        "\n",
        "try:\n",
        "  os.symlink(KAGGLE_INPUT_PATH, os.path.join(\"..\", 'input'), target_is_directory=True)\n",
        "except FileExistsError:\n",
        "  pass\n",
        "try:\n",
        "  os.symlink(KAGGLE_WORKING_PATH, os.path.join(\"..\", 'working'), target_is_directory=True)\n",
        "except FileExistsError:\n",
        "  pass\n",
        "\n",
        "for data_source_mapping in DATA_SOURCE_MAPPING.split(','):\n",
        "    directory, download_url_encoded = data_source_mapping.split(':')\n",
        "    download_url = unquote(download_url_encoded)\n",
        "    filename = urlparse(download_url).path\n",
        "    destination_path = os.path.join(KAGGLE_INPUT_PATH, directory)\n",
        "    try:\n",
        "        with urlopen(download_url) as fileres, NamedTemporaryFile() as tfile:\n",
        "            total_length = fileres.headers['content-length']\n",
        "            print(f'Downloading {directory}, {total_length} bytes compressed')\n",
        "            dl = 0\n",
        "            data = fileres.read(CHUNK_SIZE)\n",
        "            while len(data) > 0:\n",
        "                dl += len(data)\n",
        "                tfile.write(data)\n",
        "                done = int(50 * dl / int(total_length))\n",
        "                sys.stdout.write(f\"\\r[{'=' * done}{' ' * (50-done)}] {dl} bytes downloaded\")\n",
        "                sys.stdout.flush()\n",
        "                data = fileres.read(CHUNK_SIZE)\n",
        "            if filename.endswith('.zip'):\n",
        "              with ZipFile(tfile) as zfile:\n",
        "                zfile.extractall(destination_path)\n",
        "            else:\n",
        "              with tarfile.open(tfile.name) as tarfile:\n",
        "                tarfile.extractall(destination_path)\n",
        "            print(f'\\nDownloaded and uncompressed: {directory}')\n",
        "    except HTTPError as e:\n",
        "        print(f'Failed to load (likely expired) {download_url} to path {destination_path}')\n",
        "        continue\n",
        "    except OSError as e:\n",
        "        print(f'Failed to load {download_url} to path {destination_path}')\n",
        "        continue\n",
        "\n",
        "print('Data source import complete.')\n"
      ],
      "metadata": {
        "id": "Se1JzoheDRc4"
      },
      "cell_type": "code",
      "outputs": [],
      "execution_count": null
    },
    {
      "cell_type": "markdown",
      "source": [
        "## Import the Necessary Libraries"
      ],
      "metadata": {
        "id": "4vv95IulDRc6"
      }
    },
    {
      "cell_type": "code",
      "source": [
        "import pandas as pd\n",
        "import numpy as np\n",
        "import cv2\n",
        "import tensorflow as tf\n",
        "import matplotlib.pyplot as plt\n",
        "from tensorflow.keras.layers import Dropout, Flatten, BatchNormalization, Dense, MaxPooling2D, Conv2D\n",
        "from tensorflow.keras.models import Model\n",
        "from tensorflow.keras.layers import Input, Activation, Add\n",
        "from tensorflow.keras.regularizers import l2\n",
        "from tensorflow.keras.optimizers import Adam, Adagrad, Adadelta, Adamax, RMSprop, SGD"
      ],
      "metadata": {
        "execution": {
          "iopub.status.busy": "2024-07-09T12:42:16.347322Z",
          "iopub.execute_input": "2024-07-09T12:42:16.348169Z",
          "iopub.status.idle": "2024-07-09T12:42:19.977447Z",
          "shell.execute_reply.started": "2024-07-09T12:42:16.348132Z",
          "shell.execute_reply": "2024-07-09T12:42:19.976441Z"
        },
        "trusted": true,
        "id": "oNktfBftDRc7"
      },
      "execution_count": null,
      "outputs": []
    },
    {
      "cell_type": "markdown",
      "source": [
        "## Extract data from the dataset"
      ],
      "metadata": {
        "id": "AQe1gQqBDRc8"
      }
    },
    {
      "cell_type": "code",
      "source": [
        "filedr = '/kaggle/input/utkface-new/UTKFace'"
      ],
      "metadata": {
        "execution": {
          "iopub.status.busy": "2024-07-09T12:42:19.978959Z",
          "iopub.execute_input": "2024-07-09T12:42:19.979487Z",
          "iopub.status.idle": "2024-07-09T12:42:19.986946Z",
          "shell.execute_reply.started": "2024-07-09T12:42:19.979454Z",
          "shell.execute_reply": "2024-07-09T12:42:19.985973Z"
        },
        "trusted": true,
        "id": "wYhhh4OVDRc9"
      },
      "execution_count": null,
      "outputs": []
    },
    {
      "cell_type": "code",
      "source": [
        "import os\n",
        "files = os.listdir(filedr)"
      ],
      "metadata": {
        "execution": {
          "iopub.status.busy": "2024-07-09T12:42:19.988054Z",
          "iopub.execute_input": "2024-07-09T12:42:19.988338Z",
          "iopub.status.idle": "2024-07-09T12:42:20.035574Z",
          "shell.execute_reply.started": "2024-07-09T12:42:19.988314Z",
          "shell.execute_reply": "2024-07-09T12:42:20.034709Z"
        },
        "trusted": true,
        "id": "CUFqlQsqDRc9"
      },
      "execution_count": null,
      "outputs": []
    },
    {
      "cell_type": "markdown",
      "source": [
        "### Create List of Images, Age and Gender from the dataset  "
      ],
      "metadata": {
        "id": "AwL1M2R5DRc-"
      }
    },
    {
      "cell_type": "code",
      "source": [
        "ages=[]\n",
        "genders=[]\n",
        "images=[]\n",
        "\n",
        "for fl in files:\n",
        "    age = int(fl.split('_')[0])\n",
        "    gender = int(fl.split('_')[1])\n",
        "    total = filedr + '/' + fl\n",
        "    print(total)\n",
        "    image = cv2.imread(total)\n",
        "\n",
        "    image = cv2.cvtColor(image, cv2.COLOR_BGR2RGB)\n",
        "    image = cv2.resize(image,(48,48))\n",
        "    images.append(image)\n",
        "    ages.append(age)\n",
        "    genders.append(gender)"
      ],
      "metadata": {
        "scrolled": true,
        "execution": {
          "iopub.status.busy": "2024-07-09T12:42:20.037404Z",
          "iopub.execute_input": "2024-07-09T12:42:20.038021Z",
          "iopub.status.idle": "2024-07-09T12:43:16.704425Z",
          "shell.execute_reply.started": "2024-07-09T12:42:20.037997Z",
          "shell.execute_reply": "2024-07-09T12:43:16.703546Z"
        },
        "trusted": true,
        "id": "tYnlwyJ9DRc-"
      },
      "execution_count": null,
      "outputs": []
    },
    {
      "cell_type": "markdown",
      "source": [
        "#### Viewing a sample"
      ],
      "metadata": {
        "id": "OUCefMJxDRdA"
      }
    },
    {
      "cell_type": "code",
      "source": [
        "plt.imshow(images[7])"
      ],
      "metadata": {
        "execution": {
          "iopub.status.busy": "2024-07-09T12:43:16.705671Z",
          "iopub.execute_input": "2024-07-09T12:43:16.706056Z",
          "iopub.status.idle": "2024-07-09T12:43:16.952286Z",
          "shell.execute_reply.started": "2024-07-09T12:43:16.706021Z",
          "shell.execute_reply": "2024-07-09T12:43:16.951497Z"
        },
        "trusted": true,
        "id": "eej2dbIQDRdB"
      },
      "execution_count": null,
      "outputs": []
    },
    {
      "cell_type": "markdown",
      "source": [
        "### Saving images array,ages array, and genders array in the system"
      ],
      "metadata": {
        "id": "i0gRaT35DRdB"
      }
    },
    {
      "cell_type": "code",
      "source": [
        "images_f=np.array(images)\n",
        "ages_f=np.array(ages)\n",
        "genders_f=np.array(genders)"
      ],
      "metadata": {
        "execution": {
          "iopub.status.busy": "2024-07-09T12:43:16.953461Z",
          "iopub.execute_input": "2024-07-09T12:43:16.953774Z",
          "iopub.status.idle": "2024-07-09T12:43:17.026589Z",
          "shell.execute_reply.started": "2024-07-09T12:43:16.953749Z",
          "shell.execute_reply": "2024-07-09T12:43:17.025783Z"
        },
        "trusted": true,
        "id": "gESfnNRLDRdC"
      },
      "execution_count": null,
      "outputs": []
    },
    {
      "cell_type": "code",
      "source": [
        "np.save('/kaggle/working/image.npy',images_f)\n",
        "np.save('/kaggle/working/ages.npy',ages_f)\n",
        "np.save('/kaggle/working/genders.npy',genders_f)"
      ],
      "metadata": {
        "execution": {
          "iopub.status.busy": "2024-07-09T12:43:17.027846Z",
          "iopub.execute_input": "2024-07-09T12:43:17.028299Z",
          "iopub.status.idle": "2024-07-09T12:43:17.172718Z",
          "shell.execute_reply.started": "2024-07-09T12:43:17.028265Z",
          "shell.execute_reply": "2024-07-09T12:43:17.171948Z"
        },
        "trusted": true,
        "id": "pzh_ibaTDRdC"
      },
      "execution_count": null,
      "outputs": []
    },
    {
      "cell_type": "markdown",
      "source": [
        "#### Finding the no. of Male and Female samples respectively"
      ],
      "metadata": {
        "id": "ZkSyoRUlDRdC"
      }
    },
    {
      "cell_type": "code",
      "source": [
        "np.unique(genders_f,return_counts=True)"
      ],
      "metadata": {
        "execution": {
          "iopub.status.busy": "2024-07-09T12:43:17.17394Z",
          "iopub.execute_input": "2024-07-09T12:43:17.174284Z",
          "iopub.status.idle": "2024-07-09T12:43:17.181345Z",
          "shell.execute_reply.started": "2024-07-09T12:43:17.174252Z",
          "shell.execute_reply": "2024-07-09T12:43:17.180496Z"
        },
        "trusted": true,
        "id": "o3eOo937DRdC"
      },
      "execution_count": null,
      "outputs": []
    },
    {
      "cell_type": "markdown",
      "source": [
        "#### Plotting the No. of Male and Female Samples"
      ],
      "metadata": {
        "id": "4Y81j-vLDRdD"
      }
    },
    {
      "cell_type": "code",
      "source": [
        "fig=plt.figure()\n",
        "ax=fig.add_axes([0,0,1,1])\n",
        "gender=['Male','Female']\n",
        "values=[12391,11317]\n",
        "ax.bar(gender,values)\n",
        "plt.show()"
      ],
      "metadata": {
        "execution": {
          "iopub.status.busy": "2024-07-09T12:43:17.182513Z",
          "iopub.execute_input": "2024-07-09T12:43:17.182821Z",
          "iopub.status.idle": "2024-07-09T12:43:17.316778Z",
          "shell.execute_reply.started": "2024-07-09T12:43:17.182774Z",
          "shell.execute_reply": "2024-07-09T12:43:17.315786Z"
        },
        "trusted": true,
        "id": "BF_41SYBDRdD"
      },
      "execution_count": null,
      "outputs": []
    },
    {
      "cell_type": "markdown",
      "source": [
        "#### Finding The no. of samples in each age"
      ],
      "metadata": {
        "id": "8j0634b8DRdD"
      }
    },
    {
      "cell_type": "code",
      "source": [
        "values, count=np.unique(ages_f,return_counts=True)\n",
        "print(count)"
      ],
      "metadata": {
        "execution": {
          "iopub.status.busy": "2024-07-09T12:43:17.32269Z",
          "iopub.execute_input": "2024-07-09T12:43:17.323958Z",
          "iopub.status.idle": "2024-07-09T12:43:17.331548Z",
          "shell.execute_reply.started": "2024-07-09T12:43:17.323912Z",
          "shell.execute_reply": "2024-07-09T12:43:17.330467Z"
        },
        "trusted": true,
        "id": "DoLHOZWaDRdD"
      },
      "execution_count": null,
      "outputs": []
    },
    {
      "cell_type": "code",
      "source": [
        "count = count.tolist()"
      ],
      "metadata": {
        "execution": {
          "iopub.status.busy": "2024-07-09T12:43:17.333209Z",
          "iopub.execute_input": "2024-07-09T12:43:17.33459Z",
          "iopub.status.idle": "2024-07-09T12:43:17.339521Z",
          "shell.execute_reply.started": "2024-07-09T12:43:17.334535Z",
          "shell.execute_reply": "2024-07-09T12:43:17.338451Z"
        },
        "trusted": true,
        "id": "Ix1Ms7s2DRdD"
      },
      "execution_count": null,
      "outputs": []
    },
    {
      "cell_type": "markdown",
      "source": [
        "#### Plotting The Samples Agewise"
      ],
      "metadata": {
        "id": "BGJfKmdHDRdE"
      }
    },
    {
      "cell_type": "code",
      "source": [
        "plt.plot(count)\n",
        "plt.xlabel(\"Ages\")\n",
        "plt.ylabel('Distribution')\n",
        "plt.show()"
      ],
      "metadata": {
        "execution": {
          "iopub.status.busy": "2024-07-09T12:43:17.34103Z",
          "iopub.execute_input": "2024-07-09T12:43:17.342006Z",
          "iopub.status.idle": "2024-07-09T12:43:17.502174Z",
          "shell.execute_reply.started": "2024-07-09T12:43:17.34198Z",
          "shell.execute_reply": "2024-07-09T12:43:17.501012Z"
        },
        "trusted": true,
        "id": "6cfZKiXWDRdE"
      },
      "execution_count": null,
      "outputs": []
    },
    {
      "cell_type": "markdown",
      "source": [
        "### Defining Labels for Output"
      ],
      "metadata": {
        "id": "8N2CQzpgDRdE"
      }
    },
    {
      "cell_type": "code",
      "source": [
        "labels=[]\n",
        "i=0\n",
        "while i<len(ages):\n",
        "    label=[]\n",
        "    label.append(ages[i])\n",
        "    label.append(genders[i])\n",
        "    labels.append(label)\n",
        "    i=i+1"
      ],
      "metadata": {
        "execution": {
          "iopub.status.busy": "2024-07-09T12:43:17.503943Z",
          "iopub.execute_input": "2024-07-09T12:43:17.505214Z",
          "iopub.status.idle": "2024-07-09T12:43:17.531089Z",
          "shell.execute_reply.started": "2024-07-09T12:43:17.505167Z",
          "shell.execute_reply": "2024-07-09T12:43:17.530264Z"
        },
        "trusted": true,
        "id": "YC0J_sCCDRdE"
      },
      "execution_count": null,
      "outputs": []
    },
    {
      "cell_type": "code",
      "source": [
        "images_f_2=images_f/255\n",
        "images_f_2.shape"
      ],
      "metadata": {
        "execution": {
          "iopub.status.busy": "2024-07-09T12:43:17.532096Z",
          "iopub.execute_input": "2024-07-09T12:43:17.532421Z",
          "iopub.status.idle": "2024-07-09T12:43:17.935339Z",
          "shell.execute_reply.started": "2024-07-09T12:43:17.532397Z",
          "shell.execute_reply": "2024-07-09T12:43:17.93438Z"
        },
        "trusted": true,
        "id": "QJUtqQNRDRdE"
      },
      "execution_count": null,
      "outputs": []
    },
    {
      "cell_type": "code",
      "source": [
        "labels_f=np.array(labels)"
      ],
      "metadata": {
        "execution": {
          "iopub.status.busy": "2024-07-09T12:43:17.936565Z",
          "iopub.execute_input": "2024-07-09T12:43:17.936885Z",
          "iopub.status.idle": "2024-07-09T12:43:17.954648Z",
          "shell.execute_reply.started": "2024-07-09T12:43:17.936859Z",
          "shell.execute_reply": "2024-07-09T12:43:17.95367Z"
        },
        "trusted": true,
        "id": "h1gP7MkSDRdE"
      },
      "execution_count": null,
      "outputs": []
    },
    {
      "cell_type": "markdown",
      "source": [
        "## Splitting The Dataset into test and train"
      ],
      "metadata": {
        "id": "91nYtSQnDRdE"
      }
    },
    {
      "cell_type": "code",
      "source": [
        "from sklearn.model_selection import train_test_split"
      ],
      "metadata": {
        "execution": {
          "iopub.status.busy": "2024-07-09T12:43:17.95631Z",
          "iopub.execute_input": "2024-07-09T12:43:17.956721Z",
          "iopub.status.idle": "2024-07-09T12:43:18.477593Z",
          "shell.execute_reply.started": "2024-07-09T12:43:17.956678Z",
          "shell.execute_reply": "2024-07-09T12:43:18.476644Z"
        },
        "trusted": true,
        "id": "RvU_WlUDDRdE"
      },
      "execution_count": null,
      "outputs": []
    },
    {
      "cell_type": "code",
      "source": [
        "X_train,X_test,Y_train,Y_test=train_test_split(images_f_2,labels_f,test_size=0.25)"
      ],
      "metadata": {
        "execution": {
          "iopub.status.busy": "2024-07-09T12:43:18.478858Z",
          "iopub.execute_input": "2024-07-09T12:43:18.479146Z",
          "iopub.status.idle": "2024-07-09T12:43:18.856067Z",
          "shell.execute_reply.started": "2024-07-09T12:43:18.479122Z",
          "shell.execute_reply": "2024-07-09T12:43:18.855113Z"
        },
        "trusted": true,
        "id": "LXBsLgRjDRdF"
      },
      "execution_count": null,
      "outputs": []
    },
    {
      "cell_type": "code",
      "source": [
        "Y_train[0:5]"
      ],
      "metadata": {
        "execution": {
          "iopub.status.busy": "2024-07-09T12:43:18.857302Z",
          "iopub.execute_input": "2024-07-09T12:43:18.857602Z",
          "iopub.status.idle": "2024-07-09T12:43:18.863674Z",
          "shell.execute_reply.started": "2024-07-09T12:43:18.857578Z",
          "shell.execute_reply": "2024-07-09T12:43:18.862772Z"
        },
        "trusted": true,
        "id": "Jk84dd3vDRdF"
      },
      "execution_count": null,
      "outputs": []
    },
    {
      "cell_type": "code",
      "source": [
        "Y_train_2=[Y_train[:,1],Y_train[:,0]]\n",
        "Y_test_2=[Y_test[:,1],Y_test[:,0]]"
      ],
      "metadata": {
        "execution": {
          "iopub.status.busy": "2024-07-09T12:43:18.865114Z",
          "iopub.execute_input": "2024-07-09T12:43:18.865515Z",
          "iopub.status.idle": "2024-07-09T12:43:18.871351Z",
          "shell.execute_reply.started": "2024-07-09T12:43:18.86549Z",
          "shell.execute_reply": "2024-07-09T12:43:18.870339Z"
        },
        "trusted": true,
        "id": "R0b32H2iDRdF"
      },
      "execution_count": null,
      "outputs": []
    },
    {
      "cell_type": "code",
      "source": [
        "Y_train_2[0][0:5]"
      ],
      "metadata": {
        "execution": {
          "iopub.status.busy": "2024-07-09T12:43:18.87261Z",
          "iopub.execute_input": "2024-07-09T12:43:18.872933Z",
          "iopub.status.idle": "2024-07-09T12:43:18.881535Z",
          "shell.execute_reply.started": "2024-07-09T12:43:18.872896Z",
          "shell.execute_reply": "2024-07-09T12:43:18.880699Z"
        },
        "trusted": true,
        "id": "SUsa6crEDRdF"
      },
      "execution_count": null,
      "outputs": []
    },
    {
      "cell_type": "code",
      "source": [
        "Y_train_2[1][0:5]"
      ],
      "metadata": {
        "execution": {
          "iopub.status.busy": "2024-07-09T12:43:18.882468Z",
          "iopub.execute_input": "2024-07-09T12:43:18.882709Z",
          "iopub.status.idle": "2024-07-09T12:43:18.890446Z",
          "shell.execute_reply.started": "2024-07-09T12:43:18.882689Z",
          "shell.execute_reply": "2024-07-09T12:43:18.889607Z"
        },
        "trusted": true,
        "id": "EaTutvqxDRdF"
      },
      "execution_count": null,
      "outputs": []
    },
    {
      "cell_type": "markdown",
      "source": [
        "## Defining the Model"
      ],
      "metadata": {
        "id": "Yyw4w_N_DRdF"
      }
    },
    {
      "cell_type": "code",
      "source": [
        "def Convolution(input_tensor,filters):\n",
        "    x=Conv2D(filters=filters,kernel_size=(3,3),padding=\"same\",strides=(1,1),kernel_regularizer=l2(0.001))(input_tensor)\n",
        "    x=Dropout(0.1)(x)\n",
        "    x=Activation('relu')(x)\n",
        "    return x"
      ],
      "metadata": {
        "execution": {
          "iopub.status.busy": "2024-07-09T12:43:18.891551Z",
          "iopub.execute_input": "2024-07-09T12:43:18.89218Z",
          "iopub.status.idle": "2024-07-09T12:43:18.8983Z",
          "shell.execute_reply.started": "2024-07-09T12:43:18.892149Z",
          "shell.execute_reply": "2024-07-09T12:43:18.897417Z"
        },
        "trusted": true,
        "id": "GhjVStHLDRdG"
      },
      "execution_count": null,
      "outputs": []
    },
    {
      "cell_type": "code",
      "source": [
        "def model(input_shape):\n",
        "    inputs=Input((input_shape))\n",
        "    conv_1=Convolution(inputs,32)\n",
        "    maxp_1=MaxPooling2D(pool_size=(2,2))(conv_1)\n",
        "    conv_2=Convolution(maxp_1,64)\n",
        "    maxp_2=MaxPooling2D(pool_size=(2,2))(conv_2)\n",
        "    conv_3=Convolution(maxp_2,128)\n",
        "    maxp_3=MaxPooling2D(pool_size=(2,2))(conv_3)\n",
        "    conv_4=Convolution(maxp_3,256)\n",
        "    maxp_4=MaxPooling2D(pool_size=(2,2))(conv_4)\n",
        "    flatten= Flatten()(maxp_4)\n",
        "    dense_1=Dense(64,activation='relu')(flatten)\n",
        "    dense_2=Dense(64,activation='relu')(flatten)\n",
        "    drop_1=Dropout(0.2)(dense_1)\n",
        "    drop_2=Dropout(0.2)(dense_2)\n",
        "    output_1=Dense(1,activation='sigmoid',name='sex_out')(drop_1)\n",
        "    output_2=Dense(1,activation='relu',name='age_out')(drop_2)\n",
        "    model=Model(inputs=[inputs],outputs=[output_1,output_2])\n",
        "    model.compile(loss=[\"binary_crossentropy\",\"mae\"],optimizer='rmsprop',metrics=[\"accuracy\",'mse'])\n",
        "    return model"
      ],
      "metadata": {
        "execution": {
          "iopub.status.busy": "2024-07-09T12:43:18.899741Z",
          "iopub.execute_input": "2024-07-09T12:43:18.900072Z",
          "iopub.status.idle": "2024-07-09T12:43:18.908977Z",
          "shell.execute_reply.started": "2024-07-09T12:43:18.900037Z",
          "shell.execute_reply": "2024-07-09T12:43:18.908157Z"
        },
        "trusted": true,
        "id": "mh79fTJaDRdG"
      },
      "execution_count": null,
      "outputs": []
    },
    {
      "cell_type": "code",
      "source": [
        "model_ag=model((48,48,3))"
      ],
      "metadata": {
        "execution": {
          "iopub.status.busy": "2024-07-09T12:49:09.896158Z",
          "iopub.execute_input": "2024-07-09T12:49:09.896551Z",
          "iopub.status.idle": "2024-07-09T12:49:09.992084Z",
          "shell.execute_reply.started": "2024-07-09T12:49:09.896518Z",
          "shell.execute_reply": "2024-07-09T12:49:09.99127Z"
        },
        "trusted": true,
        "id": "p4nW9ktZDRdG"
      },
      "execution_count": null,
      "outputs": []
    },
    {
      "cell_type": "code",
      "source": [
        "model_ag.summary()"
      ],
      "metadata": {
        "execution": {
          "iopub.status.busy": "2024-07-09T12:49:09.993663Z",
          "iopub.execute_input": "2024-07-09T12:49:09.993959Z",
          "iopub.status.idle": "2024-07-09T12:49:10.038381Z",
          "shell.execute_reply.started": "2024-07-09T12:49:09.993934Z",
          "shell.execute_reply": "2024-07-09T12:49:10.037576Z"
        },
        "trusted": true,
        "id": "A8TaktPEDRdG"
      },
      "execution_count": null,
      "outputs": []
    },
    {
      "cell_type": "markdown",
      "source": [
        "## Initializing the Model"
      ],
      "metadata": {
        "id": "S4M4HWlhDRdG"
      }
    },
    {
      "cell_type": "code",
      "source": [
        "from tensorflow.keras.callbacks import ModelCheckpoint"
      ],
      "metadata": {
        "execution": {
          "iopub.status.busy": "2024-07-09T12:49:10.039352Z",
          "iopub.execute_input": "2024-07-09T12:49:10.039603Z",
          "iopub.status.idle": "2024-07-09T12:49:10.043992Z",
          "shell.execute_reply.started": "2024-07-09T12:49:10.039582Z",
          "shell.execute_reply": "2024-07-09T12:49:10.043105Z"
        },
        "trusted": true,
        "id": "aXKa1lx8DRdQ"
      },
      "execution_count": null,
      "outputs": []
    },
    {
      "cell_type": "code",
      "source": [
        "fle_s='Age_Sex_Detection.keras'\n",
        "checkpoint=ModelCheckpoint(fle_s,monitor='val_sex_out_accuracy',verbose=1,save_best_only=True,save_weights_only=False, mode=\"max\",save_freq='epoch')\n",
        "Early_stop=tf.keras.callbacks.EarlyStopping(patience=50,monitor='val_sex_out_accuracy',restore_best_weights='True',mode='max')\n",
        "callback_list=[checkpoint,Early_stop]"
      ],
      "metadata": {
        "execution": {
          "iopub.status.busy": "2024-07-09T13:16:42.124002Z",
          "iopub.execute_input": "2024-07-09T13:16:42.124862Z",
          "iopub.status.idle": "2024-07-09T13:16:42.130242Z",
          "shell.execute_reply.started": "2024-07-09T13:16:42.124824Z",
          "shell.execute_reply": "2024-07-09T13:16:42.129253Z"
        },
        "trusted": true,
        "id": "06ZjdmlkDRdQ"
      },
      "execution_count": null,
      "outputs": []
    },
    {
      "cell_type": "code",
      "source": [
        "history_ag=model_ag.fit(X_train,Y_train_2,batch_size=128,validation_data=(X_test,Y_test_2),epochs=150, callbacks=callback_list)"
      ],
      "metadata": {
        "scrolled": true,
        "execution": {
          "iopub.status.busy": "2024-07-09T13:16:42.315719Z",
          "iopub.execute_input": "2024-07-09T13:16:42.316003Z",
          "iopub.status.idle": "2024-07-09T13:22:00.734942Z",
          "shell.execute_reply.started": "2024-07-09T13:16:42.31598Z",
          "shell.execute_reply": "2024-07-09T13:22:00.734023Z"
        },
        "trusted": true,
        "id": "BlvpxKT7DRdQ"
      },
      "execution_count": null,
      "outputs": []
    },
    {
      "cell_type": "markdown",
      "source": [
        "## Model Evaluation"
      ],
      "metadata": {
        "id": "cRxzhS15DRdQ"
      }
    },
    {
      "cell_type": "code",
      "source": [
        "model_ag.evaluate(X_test,Y_test_2)"
      ],
      "metadata": {
        "execution": {
          "iopub.status.busy": "2024-07-09T13:23:19.842298Z",
          "iopub.execute_input": "2024-07-09T13:23:19.842686Z",
          "iopub.status.idle": "2024-07-09T13:23:21.974539Z",
          "shell.execute_reply.started": "2024-07-09T13:23:19.842655Z",
          "shell.execute_reply": "2024-07-09T13:23:21.973573Z"
        },
        "trusted": true,
        "id": "DPDcM6pqDRdQ"
      },
      "execution_count": null,
      "outputs": []
    },
    {
      "cell_type": "code",
      "source": [
        "pred=model_ag.predict(X_test)"
      ],
      "metadata": {
        "execution": {
          "iopub.status.busy": "2024-07-09T13:23:21.976467Z",
          "iopub.execute_input": "2024-07-09T13:23:21.977096Z",
          "iopub.status.idle": "2024-07-09T13:23:23.786463Z",
          "shell.execute_reply.started": "2024-07-09T13:23:21.977063Z",
          "shell.execute_reply": "2024-07-09T13:23:23.785511Z"
        },
        "trusted": true,
        "id": "grl8X4wjDRdR"
      },
      "execution_count": null,
      "outputs": []
    },
    {
      "cell_type": "code",
      "source": [
        "pred[1]"
      ],
      "metadata": {
        "execution": {
          "iopub.status.busy": "2024-07-09T13:23:23.788126Z",
          "iopub.execute_input": "2024-07-09T13:23:23.788447Z",
          "iopub.status.idle": "2024-07-09T13:23:23.795159Z",
          "shell.execute_reply.started": "2024-07-09T13:23:23.788416Z",
          "shell.execute_reply": "2024-07-09T13:23:23.794135Z"
        },
        "trusted": true,
        "id": "Mu_pifg6DRdR"
      },
      "execution_count": null,
      "outputs": []
    },
    {
      "cell_type": "markdown",
      "source": [
        "## Plotting Loss"
      ],
      "metadata": {
        "id": "ZNjpmUrHDRdR"
      }
    },
    {
      "cell_type": "code",
      "source": [
        "plt.plot(history_ag.history['loss'])\n",
        "plt.plot(history_ag.history['val_loss'])\n",
        "plt.title('Model Loss')\n",
        "plt.xlabel=('Epoch')\n",
        "plt.ylabel=('Loss')\n",
        "plt.legend(['Train','Validation'],loc='upper left')\n",
        "plt.subplots_adjust(top=1.0,bottom=0.0,right=0.95,left=0,hspace=0.25,wspace=0.35)"
      ],
      "metadata": {
        "execution": {
          "iopub.status.busy": "2024-07-09T13:23:23.797305Z",
          "iopub.execute_input": "2024-07-09T13:23:23.797612Z",
          "iopub.status.idle": "2024-07-09T13:23:24.136329Z",
          "shell.execute_reply.started": "2024-07-09T13:23:23.797587Z",
          "shell.execute_reply": "2024-07-09T13:23:24.135467Z"
        },
        "trusted": true,
        "id": "r6PQDs_HDRdS"
      },
      "execution_count": null,
      "outputs": []
    },
    {
      "cell_type": "markdown",
      "source": [
        "## Plotting Sex Accuracy"
      ],
      "metadata": {
        "id": "LavDZ7pNDRdS"
      }
    },
    {
      "cell_type": "code",
      "source": [
        "plt.plot(history_ag.history['sex_out_accuracy'])\n",
        "plt.plot(history_ag.history['val_sex_out_accuracy'])\n",
        "plt.title('Model Accuracy')\n",
        "plt.xlabel=('Epoch')\n",
        "plt.ylabel=('Accuracy')\n",
        "plt.legend(['Train','Validation'],loc='upper left')\n",
        "plt.subplots_adjust(top=1.0,bottom=0.0,right=0.95,left=0,hspace=0.25,wspace=0.35)\n",
        "plt.grid()"
      ],
      "metadata": {
        "execution": {
          "iopub.status.busy": "2024-07-09T13:23:24.137508Z",
          "iopub.execute_input": "2024-07-09T13:23:24.137807Z",
          "iopub.status.idle": "2024-07-09T13:23:24.484049Z",
          "shell.execute_reply.started": "2024-07-09T13:23:24.137765Z",
          "shell.execute_reply": "2024-07-09T13:23:24.48307Z"
        },
        "trusted": true,
        "id": "HfhFzxtlDRdS"
      },
      "execution_count": null,
      "outputs": []
    },
    {
      "cell_type": "markdown",
      "source": [
        "## Plotting Gender Accuracy"
      ],
      "metadata": {
        "id": "rA8CYOh2DRdS"
      }
    },
    {
      "cell_type": "code",
      "source": [
        "fig,ax=plt.subplots()\n",
        "ax.scatter(Y_test_2[1],pred[1])\n",
        "ax.plot([Y_test_2[1].min(),Y_test_2[1].max()],[Y_test_2[1].min(),Y_test_2[1].max()],'k--',lw=4)\n",
        "ax.set_xlabel('Actual Age')\n",
        "ax.set_ylabel('Predicted Age')\n",
        "plt.show()"
      ],
      "metadata": {
        "execution": {
          "iopub.status.busy": "2024-07-09T13:23:24.485321Z",
          "iopub.execute_input": "2024-07-09T13:23:24.485675Z",
          "iopub.status.idle": "2024-07-09T13:23:24.684168Z",
          "shell.execute_reply.started": "2024-07-09T13:23:24.485642Z",
          "shell.execute_reply": "2024-07-09T13:23:24.683306Z"
        },
        "trusted": true,
        "id": "4Ynx2qzaDRdT"
      },
      "execution_count": null,
      "outputs": []
    },
    {
      "cell_type": "markdown",
      "source": [
        "## Making Report of the Model (Gender Only)"
      ],
      "metadata": {
        "id": "rIm8VBQiDRdT"
      }
    },
    {
      "cell_type": "code",
      "source": [
        "i=0\n",
        "Pred_l=[]\n",
        "while(i<len(pred[0])):\n",
        "    Pred_l.append(int(np.round(pred[0][i])))\n",
        "    i=i+1"
      ],
      "metadata": {
        "execution": {
          "iopub.status.busy": "2024-07-09T13:23:24.685132Z",
          "iopub.execute_input": "2024-07-09T13:23:24.685379Z",
          "iopub.status.idle": "2024-07-09T13:23:24.720023Z",
          "shell.execute_reply.started": "2024-07-09T13:23:24.685357Z",
          "shell.execute_reply": "2024-07-09T13:23:24.719058Z"
        },
        "trusted": true,
        "id": "4z94YM3NDRdT"
      },
      "execution_count": null,
      "outputs": []
    },
    {
      "cell_type": "code",
      "source": [
        "from sklearn.metrics import confusion_matrix\n",
        "from sklearn.metrics import classification_report"
      ],
      "metadata": {
        "execution": {
          "iopub.status.busy": "2024-07-09T13:23:24.721215Z",
          "iopub.execute_input": "2024-07-09T13:23:24.721558Z",
          "iopub.status.idle": "2024-07-09T13:23:24.725927Z",
          "shell.execute_reply.started": "2024-07-09T13:23:24.721528Z",
          "shell.execute_reply": "2024-07-09T13:23:24.725032Z"
        },
        "trusted": true,
        "id": "P-MDlg1ZDRdT"
      },
      "execution_count": null,
      "outputs": []
    },
    {
      "cell_type": "code",
      "source": [
        "report=classification_report(Y_test_2[0],Pred_l)\n",
        "print(report)"
      ],
      "metadata": {
        "execution": {
          "iopub.status.busy": "2024-07-09T13:23:24.727059Z",
          "iopub.execute_input": "2024-07-09T13:23:24.727387Z",
          "iopub.status.idle": "2024-07-09T13:23:24.74586Z",
          "shell.execute_reply.started": "2024-07-09T13:23:24.727357Z",
          "shell.execute_reply": "2024-07-09T13:23:24.744976Z"
        },
        "trusted": true,
        "id": "c-ONdaGBDRdT"
      },
      "execution_count": null,
      "outputs": []
    },
    {
      "cell_type": "markdown",
      "source": [
        "## Making Heatmap of the Model (Gender only)"
      ],
      "metadata": {
        "id": "8uKoUSk2DRdU"
      }
    },
    {
      "cell_type": "code",
      "source": [
        "results=confusion_matrix(Y_test_2[0],Pred_l)"
      ],
      "metadata": {
        "execution": {
          "iopub.status.busy": "2024-07-09T13:23:24.74955Z",
          "iopub.execute_input": "2024-07-09T13:23:24.749884Z",
          "iopub.status.idle": "2024-07-09T13:23:24.75771Z",
          "shell.execute_reply.started": "2024-07-09T13:23:24.74986Z",
          "shell.execute_reply": "2024-07-09T13:23:24.756979Z"
        },
        "trusted": true,
        "id": "mB2Eb9IhDRdU"
      },
      "execution_count": null,
      "outputs": []
    },
    {
      "cell_type": "code",
      "source": [
        "print(results)"
      ],
      "metadata": {
        "execution": {
          "iopub.status.busy": "2024-07-09T13:23:24.758736Z",
          "iopub.execute_input": "2024-07-09T13:23:24.759013Z",
          "iopub.status.idle": "2024-07-09T13:23:24.766175Z",
          "shell.execute_reply.started": "2024-07-09T13:23:24.75899Z",
          "shell.execute_reply": "2024-07-09T13:23:24.765275Z"
        },
        "trusted": true,
        "id": "CIrGg6T4DRdU"
      },
      "execution_count": null,
      "outputs": []
    },
    {
      "cell_type": "code",
      "source": [
        "import seaborn as sns\n",
        "sns.heatmap(results,annot=True, fmt=\".0f\")"
      ],
      "metadata": {
        "execution": {
          "iopub.status.busy": "2024-07-09T13:23:24.767218Z",
          "iopub.execute_input": "2024-07-09T13:23:24.767482Z",
          "iopub.status.idle": "2024-07-09T13:23:24.988738Z",
          "shell.execute_reply.started": "2024-07-09T13:23:24.76746Z",
          "shell.execute_reply": "2024-07-09T13:23:24.987799Z"
        },
        "trusted": true,
        "id": "NtCy3hgTDRdU"
      },
      "execution_count": null,
      "outputs": []
    },
    {
      "cell_type": "markdown",
      "source": [
        "## Testing some sample images"
      ],
      "metadata": {
        "id": "CSi-qIymDRdU"
      }
    },
    {
      "cell_type": "code",
      "source": [
        "def test_image(ind,images_f,images_f_2,model):\n",
        "    plt.imshow(images_f[ind])\n",
        "    image_test=images_f_2[ind]\n",
        "    pred_l=model.predict(np.array([image_test]))\n",
        "    sex_f=['Male','Female']\n",
        "    age=int(np.round(pred_l[1][0]))\n",
        "    sex=int(np.round(pred_l[0][0]))\n",
        "    print(\"Predicted Age is \"+ str(age))\n",
        "    print(\"Predicted Gender is \"+ sex_f[sex])"
      ],
      "metadata": {
        "execution": {
          "iopub.status.busy": "2024-07-09T13:23:24.990178Z",
          "iopub.execute_input": "2024-07-09T13:23:24.990561Z",
          "iopub.status.idle": "2024-07-09T13:23:24.997354Z",
          "shell.execute_reply.started": "2024-07-09T13:23:24.990526Z",
          "shell.execute_reply": "2024-07-09T13:23:24.996349Z"
        },
        "trusted": true,
        "id": "LbLkiYoBDRdU"
      },
      "execution_count": null,
      "outputs": []
    },
    {
      "cell_type": "code",
      "source": [
        "test_image(45,images_f,images_f_2,model_ag)"
      ],
      "metadata": {
        "execution": {
          "iopub.status.busy": "2024-07-09T13:23:24.99842Z",
          "iopub.execute_input": "2024-07-09T13:23:24.998686Z",
          "iopub.status.idle": "2024-07-09T13:23:25.54496Z",
          "shell.execute_reply.started": "2024-07-09T13:23:24.998664Z",
          "shell.execute_reply": "2024-07-09T13:23:25.543979Z"
        },
        "trusted": true,
        "id": "DvX4ZSxpDRdU"
      },
      "execution_count": null,
      "outputs": []
    },
    {
      "cell_type": "code",
      "source": [
        "test_image(123,images_f,images_f_2,model_ag)"
      ],
      "metadata": {
        "execution": {
          "iopub.status.busy": "2024-07-09T13:23:25.546382Z",
          "iopub.execute_input": "2024-07-09T13:23:25.547023Z",
          "iopub.status.idle": "2024-07-09T13:23:25.792337Z",
          "shell.execute_reply.started": "2024-07-09T13:23:25.546987Z",
          "shell.execute_reply": "2024-07-09T13:23:25.791475Z"
        },
        "trusted": true,
        "id": "ZkBs8opxDRdV"
      },
      "execution_count": null,
      "outputs": []
    },
    {
      "cell_type": "code",
      "source": [
        "test_image(543,images_f,images_f_2,model_ag)"
      ],
      "metadata": {
        "execution": {
          "iopub.status.busy": "2024-07-09T13:23:25.793434Z",
          "iopub.execute_input": "2024-07-09T13:23:25.793705Z",
          "iopub.status.idle": "2024-07-09T13:23:26.096259Z",
          "shell.execute_reply.started": "2024-07-09T13:23:25.793683Z",
          "shell.execute_reply": "2024-07-09T13:23:26.095342Z"
        },
        "trusted": true,
        "id": "quj1ci5XDRdV"
      },
      "execution_count": null,
      "outputs": []
    },
    {
      "cell_type": "code",
      "source": [
        "test_image(2343,images_f,images_f_2,model_ag)"
      ],
      "metadata": {
        "execution": {
          "iopub.status.busy": "2024-07-09T13:23:26.097496Z",
          "iopub.execute_input": "2024-07-09T13:23:26.0978Z",
          "iopub.status.idle": "2024-07-09T13:23:26.399749Z",
          "shell.execute_reply.started": "2024-07-09T13:23:26.097764Z",
          "shell.execute_reply": "2024-07-09T13:23:26.398874Z"
        },
        "trusted": true,
        "id": "3Vp8i5VtDRdV"
      },
      "execution_count": null,
      "outputs": []
    },
    {
      "cell_type": "code",
      "source": [],
      "metadata": {
        "id": "3rjaK5SSDRdV"
      },
      "execution_count": null,
      "outputs": []
    },
    {
      "cell_type": "code",
      "source": [],
      "metadata": {
        "id": "Zcj1fRmnDRdV"
      },
      "execution_count": null,
      "outputs": []
    },
    {
      "cell_type": "code",
      "source": [],
      "metadata": {
        "id": "w38O8erpDRdV"
      },
      "execution_count": null,
      "outputs": []
    }
  ]
}